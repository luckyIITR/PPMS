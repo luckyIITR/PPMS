{
 "cells": [
  {
   "cell_type": "code",
   "execution_count": 1,
   "id": "2335aaf0",
   "metadata": {},
   "outputs": [],
   "source": [
    "# %matplotlib notebook"
   ]
  },
  {
   "cell_type": "code",
   "execution_count": 2,
   "id": "73de6dab",
   "metadata": {},
   "outputs": [],
   "source": [
    "import pandas as pd\n",
    "import matplotlib.pyplot as plt\n",
    "from matplotlib.animation import FuncAnimation"
   ]
  },
  {
   "cell_type": "code",
   "execution_count": 3,
   "id": "c61f33f3",
   "metadata": {},
   "outputs": [],
   "source": [
    "Temps = [10,50, 100, 115, 119, 125, 150, 152, 155, 160, 200, 300]"
   ]
  },
  {
   "cell_type": "code",
   "execution_count": 4,
   "id": "1ac524cb",
   "metadata": {},
   "outputs": [
    {
     "ename": "FileNotFoundError",
     "evalue": "[Errno 2] No such file or directory: './pickle_data/Hall_10K.pkl'",
     "output_type": "error",
     "traceback": [
      "\u001b[1;31m---------------------------------------------------------------------------\u001b[0m",
      "\u001b[1;31mFileNotFoundError\u001b[0m                         Traceback (most recent call last)",
      "\u001b[1;32m~\\AppData\\Local\\Temp\\ipykernel_27364\\1347515187.py\u001b[0m in \u001b[0;36m<module>\u001b[1;34m\u001b[0m\n\u001b[0;32m      1\u001b[0m \u001b[1;32mfor\u001b[0m \u001b[0mi\u001b[0m \u001b[1;32min\u001b[0m \u001b[0mrange\u001b[0m\u001b[1;33m(\u001b[0m\u001b[0mlen\u001b[0m\u001b[1;33m(\u001b[0m\u001b[0mTemps\u001b[0m\u001b[1;33m)\u001b[0m\u001b[1;33m)\u001b[0m\u001b[1;33m:\u001b[0m\u001b[1;33m\u001b[0m\u001b[1;33m\u001b[0m\u001b[0m\n\u001b[0;32m      2\u001b[0m     \u001b[0mfile_name\u001b[0m \u001b[1;33m=\u001b[0m \u001b[1;34mf\"./pickle_data/Hall_{Temps[i]}K.pkl\"\u001b[0m\u001b[1;33m\u001b[0m\u001b[1;33m\u001b[0m\u001b[0m\n\u001b[1;32m----> 3\u001b[1;33m     \u001b[0mdf\u001b[0m \u001b[1;33m=\u001b[0m \u001b[0mpd\u001b[0m\u001b[1;33m.\u001b[0m\u001b[0mread_pickle\u001b[0m\u001b[1;33m(\u001b[0m\u001b[0mfile_name\u001b[0m\u001b[1;33m)\u001b[0m\u001b[1;33m\u001b[0m\u001b[1;33m\u001b[0m\u001b[0m\n\u001b[0m\u001b[0;32m      4\u001b[0m     \u001b[0mplt\u001b[0m\u001b[1;33m.\u001b[0m\u001b[0mplot\u001b[0m\u001b[1;33m(\u001b[0m\u001b[0mdf\u001b[0m\u001b[1;33m[\u001b[0m\u001b[1;34m'B'\u001b[0m\u001b[1;33m]\u001b[0m\u001b[1;33m,\u001b[0m \u001b[0mdf\u001b[0m\u001b[1;33m[\u001b[0m\u001b[1;34m'MR'\u001b[0m\u001b[1;33m]\u001b[0m\u001b[1;33m,\u001b[0m \u001b[0mlabel\u001b[0m \u001b[1;33m=\u001b[0m \u001b[1;34mf\"{Temps[i]}K\"\u001b[0m\u001b[1;33m)\u001b[0m\u001b[1;33m\u001b[0m\u001b[1;33m\u001b[0m\u001b[0m\n\u001b[0;32m      5\u001b[0m \u001b[1;33m\u001b[0m\u001b[0m\n",
      "\u001b[1;32m~\\anaconda3\\lib\\site-packages\\pandas\\io\\pickle.py\u001b[0m in \u001b[0;36mread_pickle\u001b[1;34m(filepath_or_buffer, compression, storage_options)\u001b[0m\n\u001b[0;32m    185\u001b[0m     \"\"\"  # noqa: E501\n\u001b[0;32m    186\u001b[0m     \u001b[0mexcs_to_catch\u001b[0m \u001b[1;33m=\u001b[0m \u001b[1;33m(\u001b[0m\u001b[0mAttributeError\u001b[0m\u001b[1;33m,\u001b[0m \u001b[0mImportError\u001b[0m\u001b[1;33m,\u001b[0m \u001b[0mModuleNotFoundError\u001b[0m\u001b[1;33m,\u001b[0m \u001b[0mTypeError\u001b[0m\u001b[1;33m)\u001b[0m\u001b[1;33m\u001b[0m\u001b[1;33m\u001b[0m\u001b[0m\n\u001b[1;32m--> 187\u001b[1;33m     with get_handle(\n\u001b[0m\u001b[0;32m    188\u001b[0m         \u001b[0mfilepath_or_buffer\u001b[0m\u001b[1;33m,\u001b[0m\u001b[1;33m\u001b[0m\u001b[1;33m\u001b[0m\u001b[0m\n\u001b[0;32m    189\u001b[0m         \u001b[1;34m\"rb\"\u001b[0m\u001b[1;33m,\u001b[0m\u001b[1;33m\u001b[0m\u001b[1;33m\u001b[0m\u001b[0m\n",
      "\u001b[1;32m~\\anaconda3\\lib\\site-packages\\pandas\\io\\common.py\u001b[0m in \u001b[0;36mget_handle\u001b[1;34m(path_or_buf, mode, encoding, compression, memory_map, is_text, errors, storage_options)\u001b[0m\n\u001b[0;32m    793\u001b[0m         \u001b[1;32melse\u001b[0m\u001b[1;33m:\u001b[0m\u001b[1;33m\u001b[0m\u001b[1;33m\u001b[0m\u001b[0m\n\u001b[0;32m    794\u001b[0m             \u001b[1;31m# Binary mode\u001b[0m\u001b[1;33m\u001b[0m\u001b[1;33m\u001b[0m\u001b[0m\n\u001b[1;32m--> 795\u001b[1;33m             \u001b[0mhandle\u001b[0m \u001b[1;33m=\u001b[0m \u001b[0mopen\u001b[0m\u001b[1;33m(\u001b[0m\u001b[0mhandle\u001b[0m\u001b[1;33m,\u001b[0m \u001b[0mioargs\u001b[0m\u001b[1;33m.\u001b[0m\u001b[0mmode\u001b[0m\u001b[1;33m)\u001b[0m\u001b[1;33m\u001b[0m\u001b[1;33m\u001b[0m\u001b[0m\n\u001b[0m\u001b[0;32m    796\u001b[0m         \u001b[0mhandles\u001b[0m\u001b[1;33m.\u001b[0m\u001b[0mappend\u001b[0m\u001b[1;33m(\u001b[0m\u001b[0mhandle\u001b[0m\u001b[1;33m)\u001b[0m\u001b[1;33m\u001b[0m\u001b[1;33m\u001b[0m\u001b[0m\n\u001b[0;32m    797\u001b[0m \u001b[1;33m\u001b[0m\u001b[0m\n",
      "\u001b[1;31mFileNotFoundError\u001b[0m: [Errno 2] No such file or directory: './pickle_data/Hall_10K.pkl'"
     ]
    }
   ],
   "source": [
    "for i in range(len(Temps)):\n",
    "    file_name = f\"./pickle_data/Hall_{Temps[i]}K.pkl\"\n",
    "    df = pd.read_pickle(file_name)\n",
    "    plt.plot(df['B'], df['MR'], label = f\"{Temps[i]}K\")\n",
    "\n",
    "plt.xlabel('H')\n",
    "plt.ylabel('MR(%)')\n",
    "plt.title(\"MR\")\n",
    "plt.legend()\n",
    "plt.show()"
   ]
  },
  {
   "cell_type": "code",
   "execution_count": null,
   "id": "3e791b1b",
   "metadata": {},
   "outputs": [],
   "source": [
    "def plot(T, file_path = \"\"):\n",
    "    if file_path == \"\":\n",
    "        file_name = f\"./pickle_data/MR_{T}K.pkl\"\n",
    "    else:\n",
    "        file_name = file_path\n",
    "    df = pd.read_pickle(file_name)\n",
    "    \n",
    "    plt.figure(figsize=(8,8))\n",
    "    plt.plot(df['B'], df['MR'],'-o' , label = \"MR\" )\n",
    "    plt.plot(df['B'], df['MRa'],'-o' , label = \"MRa\" )\n",
    "    plt.plot(df['B'], df['MRb'],'-o' , label = \"MRb\" )\n",
    "    \n",
    "    \n",
    "    plt.xlabel('H(Oe)')\n",
    "    plt.ylabel('MR(%)')\n",
    "    plt.title(f\"MR T = {T}\")\n",
    "    plt.legend()\n",
    "    plt.ylim(-1.4, 0.5)\n",
    "    plt.grid()\n",
    "    plt.show()"
   ]
  },
  {
   "cell_type": "code",
   "execution_count": null,
   "id": "9c979961",
   "metadata": {},
   "outputs": [],
   "source": [
    "plot(10)"
   ]
  },
  {
   "cell_type": "code",
   "execution_count": null,
   "id": "7392bf0c",
   "metadata": {},
   "outputs": [],
   "source": [
    "plot(50)"
   ]
  },
  {
   "cell_type": "code",
   "execution_count": null,
   "id": "d3fe8bcf",
   "metadata": {},
   "outputs": [],
   "source": [
    "plot(100)"
   ]
  },
  {
   "cell_type": "code",
   "execution_count": null,
   "id": "25765950",
   "metadata": {},
   "outputs": [],
   "source": [
    "plot(115)"
   ]
  },
  {
   "cell_type": "code",
   "execution_count": null,
   "id": "fa8355d5",
   "metadata": {},
   "outputs": [],
   "source": [
    "plot(119)"
   ]
  },
  {
   "cell_type": "code",
   "execution_count": null,
   "id": "055eb1ac",
   "metadata": {},
   "outputs": [],
   "source": [
    "plot(125)"
   ]
  },
  {
   "cell_type": "code",
   "execution_count": null,
   "id": "4fd1aaca",
   "metadata": {},
   "outputs": [],
   "source": [
    "plot(145)"
   ]
  },
  {
   "cell_type": "code",
   "execution_count": null,
   "id": "e15b837d",
   "metadata": {},
   "outputs": [],
   "source": [
    "plot(150)"
   ]
  },
  {
   "cell_type": "code",
   "execution_count": null,
   "id": "0c7ad2a3",
   "metadata": {},
   "outputs": [],
   "source": [
    "plot(152)"
   ]
  },
  {
   "cell_type": "code",
   "execution_count": null,
   "id": "32eecf02",
   "metadata": {},
   "outputs": [],
   "source": [
    "plot(155)"
   ]
  },
  {
   "cell_type": "code",
   "execution_count": null,
   "id": "9ff1e692",
   "metadata": {},
   "outputs": [],
   "source": [
    "plot(160)"
   ]
  },
  {
   "cell_type": "code",
   "execution_count": null,
   "id": "4f1158ee",
   "metadata": {},
   "outputs": [],
   "source": [
    "plot(175)"
   ]
  },
  {
   "cell_type": "code",
   "execution_count": null,
   "id": "a4114538",
   "metadata": {},
   "outputs": [],
   "source": [
    "plot(200)"
   ]
  },
  {
   "cell_type": "code",
   "execution_count": null,
   "id": "4dc39374",
   "metadata": {},
   "outputs": [],
   "source": [
    "plot(300)"
   ]
  },
  {
   "cell_type": "code",
   "execution_count": null,
   "id": "970e5a2a",
   "metadata": {},
   "outputs": [],
   "source": []
  }
 ],
 "metadata": {
  "kernelspec": {
   "display_name": "Python 3 (ipykernel)",
   "language": "python",
   "name": "python3"
  },
  "language_info": {
   "codemirror_mode": {
    "name": "ipython",
    "version": 3
   },
   "file_extension": ".py",
   "mimetype": "text/x-python",
   "name": "python",
   "nbconvert_exporter": "python",
   "pygments_lexer": "ipython3",
   "version": "3.9.13"
  }
 },
 "nbformat": 4,
 "nbformat_minor": 5
}
